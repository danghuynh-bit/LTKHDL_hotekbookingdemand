{
 "cells": [
  {
   "cell_type": "markdown",
   "metadata": {},
   "source": [
    "<div style=\"text-align: center; background-color: #750E21; font-family: 'Trebuchet MS', Arial, sans-serif; color: white; padding: 20px; font-size: 40px; font-weight: bold; border-radius: 0 0 0 0; box-shadow: 0px 6px 8px rgba(0, 0, 0, 0.2);\">\n",
    "  FINAL PROJECT: RESEARCHING ON HOTEL BOOKING DEMAND 📌\n",
    "</div>"
   ]
  },
  {
   "cell_type": "markdown",
   "metadata": {},
   "source": [
    "<div style=\"text-align: center; background-color: #0766AD; font-family: 'Trebuchet MS', Arial, sans-serif; color: white; padding: 20px; font-size: 40px; font-weight: bold; border-radius: 0 0 0 0; box-shadow: 0px 6px 8px rgba(0, 0, 0, 0.2);\">\n",
    "  Stage 04 - Reflection 📌\n",
    "</div>"
   ]
  },
  {
   "cell_type": "markdown",
   "metadata": {},
   "source": [
    "## **STUDENT INFORMATION** 📝"
   ]
  },
  {
   "cell_type": "markdown",
   "metadata": {},
   "source": [
    "<div align=\"center\">\n",
    "\n",
    "| Student ID | Fullname                      |\n",
    "|:------------:|:---------------------------:|\n",
    "| 21127063   | Nguyễn Văn Đăng Huỳnh     |\n",
    "| 21127528   | Nguyễn Thị Minh Minh      |\n",
    "</div>\n"
   ]
  },
  {
   "cell_type": "markdown",
   "metadata": {},
   "source": [
    "## **DIFFICULTIES** 🎄<a class=\"anchor\" id=\"c1\"></a>"
   ]
  },
  {
   "cell_type": "markdown",
   "metadata": {},
   "source": [
    "### 🟢 Nguyễn Văn Đăng Huỳnh - 21127063"
   ]
  },
  {
   "cell_type": "markdown",
   "metadata": {},
   "source": [
    "- First time branching on git and takes time to handle conflict.\n",
    "- Having difficult in finding meaningful question.\n",
    "- Struggling in time management.\n",
    "- Cannot give fully observations for graphs."
   ]
  },
  {
   "cell_type": "markdown",
   "metadata": {},
   "source": [
    "### 🟡 Nguyễn Thị Minh Minh - 21127528"
   ]
  },
  {
   "cell_type": "markdown",
   "metadata": {},
   "source": [
    "* Spending time on finding meaningful question that could cover what the dataset could transfer.\n",
    "* Time management in doing projects, labs of many courses."
   ]
  },
  {
   "cell_type": "markdown",
   "metadata": {},
   "source": [
    "## **WHAT HAVE WE LEARNED** 🎄<a class=\"anchor\" id=\"c1\"></a>"
   ]
  },
  {
   "cell_type": "markdown",
   "metadata": {},
   "source": [
    "### 🟢 Nguyễn Văn Đăng Huỳnh - 21127063 "
   ]
  },
  {
   "cell_type": "markdown",
   "metadata": {},
   "source": [
    "- Project management with git.\n",
    "- Have a clearer understanding on steps of a data science project.\n",
    "- Have more experience with numpy and pandas."
   ]
  },
  {
   "cell_type": "markdown",
   "metadata": {},
   "source": [
    "### 🟡 Nguyễn Thị Minh Minh - 21127528"
   ]
  },
  {
   "cell_type": "markdown",
   "metadata": {},
   "source": [
    "- Through the project, I gained insight into a new domain of knowledge within the hospitality industry. Utilizing techniques acquired from the course, I processed and visualized data, which enhanced my understanding of the dataset’s story. This process allowed me to identify key issues and their underlying causes, thus enable us to propose more effective solutions. Besides, I also acquired skills in how to teamwork with github, which not only enhanced the performance of the project, but also helped organize a more logical organization of the project structure."
   ]
  },
  {
   "cell_type": "markdown",
   "metadata": {},
   "source": [
    "## **WHAT WE WOULD DO IF WE HAD MORE TIME** 🎄<a class=\"anchor\" id=\"c1\"></a>"
   ]
  },
  {
   "cell_type": "markdown",
   "metadata": {},
   "source": [
    "- Having a deep research in understanding the domain knowledge for better analyzation.\n",
    "- Finding more meaningful questions that need machine learning model in order to learn more about machine learning.\n",
    "- Finding more practical questions."
   ]
  },
  {
   "cell_type": "markdown",
   "metadata": {},
   "source": [
    "## **REFERENCES** 🎄<a class=\"anchor\" id=\"c1\"></a>"
   ]
  },
  {
   "cell_type": "markdown",
   "metadata": {},
   "source": [
    "[1] [Dataset](https://www.sciencedirect.com/science/article/pii/S2352340918315191?fbclid=IwAR3MbsC2yty_L4Y9ho3wwlE4GeEeqIzzemN1BdetAZ2cQf5eDYd-osoIZZc)   \n",
    "   \n",
    "[2] [Slides in Moodle](https://drive.google.com/drive/folders/1FyzNTCs_xpx-CUVBw_VwXlEt73tf8ywX)   \n",
    "   \n",
    "[3] [Sklearn](https://scikit-learn.org/stable/)   \n",
    "\n",
    "[4] [Exploration on data](https://www.kaggle.com/datasets/jessemostipak/hotel-booking-demand)"
   ]
  },
  {
   "cell_type": "markdown",
   "metadata": {},
   "source": []
  }
 ],
 "metadata": {
  "kernelspec": {
   "display_name": "base",
   "language": "python",
   "name": "python3"
  },
  "language_info": {
   "codemirror_mode": {
    "name": "ipython",
    "version": 3
   },
   "file_extension": ".py",
   "mimetype": "text/x-python",
   "name": "python",
   "nbconvert_exporter": "python",
   "pygments_lexer": "ipython3",
   "version": "3.10.13"
  }
 },
 "nbformat": 4,
 "nbformat_minor": 2
}
